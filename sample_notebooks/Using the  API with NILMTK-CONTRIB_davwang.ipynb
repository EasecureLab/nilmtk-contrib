{
 "cells": [
  {
   "cell_type": "code",
   "execution_count": 1,
   "metadata": {},
   "outputs": [],
   "source": [
    "import warnings\n",
    "warnings.filterwarnings(\"ignore\")"
   ]
  },
  {
   "cell_type": "code",
   "execution_count": 2,
   "metadata": {},
   "outputs": [],
   "source": [
    "from nilmtk.api import API"
   ]
  },
  {
   "cell_type": "code",
   "execution_count": 2,
   "metadata": {},
   "outputs": [],
   "source": []
  },
  {
   "cell_type": "code",
   "execution_count": 3,
   "metadata": {},
   "outputs": [],
   "source": [
    "from nilmtk.disaggregate import Mean\n",
    "from nilmtk.disaggregate import CO\n",
    "from nilmtk.disaggregate import FHMMExact\n",
    "from nilmtk.disaggregate import Hart85"
   ]
  },
  {
   "cell_type": "code",
   "execution_count": 4,
   "metadata": {},
   "outputs": [
    {
     "name": "stderr",
     "output_type": "stream",
     "text": [
      "Using TensorFlow backend.\n"
     ]
    }
   ],
   "source": [
    "# from nilmtk_contrib.disaggregate import DAE,Seq2Point, Seq2Seq, RNN, WindowGRU\n",
    "from nilmtk_contrib.disaggregate import DAE, DSC, AFHMM, AFHMM_SAC, Seq2Point, Seq2Seq, RNN, WindowGRU"
   ]
  },
  {
   "cell_type": "code",
   "execution_count": 5,
   "metadata": {},
   "outputs": [],
   "source": [
    "redd = {\n",
    "  'power':\n",
    "    {\n",
    "    'mains': ['apparent','active'],\n",
    "    'appliance': ['apparent','active']\n",
    "    },\n",
    "  'sample_rate': 60,\n",
    "\n",
    "  'appliances': ['fridge'],\n",
    "  'methods': {\n",
    "    \n",
    "      # 'WindowGRU':WindowGRU({'n_epochs':50,'batch_size':32}),\n",
    "      # 'RNN':RNN({'n_epochs':50,'batch_size':32}),\n",
    "      # 'DAE':DAE({'n_epochs':50,'batch_size':32}),\n",
    "      # 'Seq2Point':Seq2Point({'n_epochs':50,'batch_size':32}),\n",
    "      # 'AFHMM':AFHMM({'num_of_states':2}),\n",
    "      # \"FHMMExact\":FHMMExact({'num_of_states':2}),\n",
    "      'Seq2Seq':Seq2Seq({'n_epochs':5,'batch_size':32}),\n",
    "      \"CO\":CO({}),\n",
    "      'Mean': Mean({}),\n",
    "  },\n",
    "   'train': {    \n",
    "    'datasets': {\n",
    "            'Dataport': {\n",
    "                'path': 'C:/Users/davwang/Desktop/nilmtk-contrib/dataset/redd.hdf5',\n",
    "\t\t\t\t'buildings': {\n",
    "\t\t\t\t2: {\n",
    "\t\t\t\t\t'start_time': '2011-04-17',\n",
    "\t\t\t\t\t'end_time': '2011-04-27'\n",
    "\t\t\t\t},\n",
    "\t\t\t\t}\n",
    "\t\t\t\t                \n",
    "\t\t\t}\n",
    "\t\t\t}\n",
    "\t},\n",
    "\t'test': {\n",
    "\t'datasets': {\n",
    "\t\t'Datport': {\n",
    "\t\t\t'path': 'C:/Users/davwang/Desktop/nilmtk-contrib/dataset/redd.hdf5',\n",
    "\t\t\t'buildings': {\n",
    "\t\t\t\t3: {\n",
    "\t\t\t\t\t'start_time': '2011-04-17',\n",
    "\t\t\t\t\t'end_time': '2011-04-27'\n",
    "\t\t\t\t},\n",
    "\t\t\t}\n",
    "\t}\n",
    "},\n",
    "        # 'metrics':['mae']\n",
    "        'metrics':['rmse']\n",
    "}\n",
    "}"
   ]
  },
  {
   "cell_type": "code",
   "execution_count": 6,
   "metadata": {},
   "outputs": [
    {
     "name": "stdout",
     "output_type": "stream",
     "text": [
      "Joint Testing for all algorithms\n",
      "Loading data for  Datport  dataset\n",
      "Loading data for meter ElecMeterID(instance=2, building=3, dataset='REDD')     \n",
      "Done loading data all meters for this chunk.\n",
      "Dropping missing values\n",
      "Generating predictions for : Seq2Seq\n",
      "Generating predictions for : CO\n",
      "...............CO disaggregate_chunk running.............\n",
      "Generating predictions for : Meange'\n",
      "............  rmse  ..............\n",
      "         Seq2Seq          CO       Mean\n",
      "fridge  61.98916  231.005876  69.905932\n"
     ]
    },
    {
     "data": {
      "text/plain": "<Figure size 432x288 with 1 Axes>",
      "image/png": "[encoded data removed]"
     },
     "metadata": {
      "needs_background": "light"
     },
     "output_type": "display_data"
    }
   ],
   "source": [
    "api_res = API(redd)"
   ]
  },
  {
   "cell_type": "code",
   "execution_count": 7,
   "metadata": {},
   "outputs": [
    {
     "data": {
      "text/plain": "[         Seq2Seq          CO       Mean\n fridge  61.98916  231.005876  69.905932]"
     },
     "execution_count": 7,
     "metadata": {},
     "output_type": "execute_result"
    }
   ],
   "source": [
    "api_res.errors"
   ]
  },
  {
   "cell_type": "code",
   "execution_count": 8,
   "metadata": {},
   "outputs": [
    {
     "data": {
      "text/plain": "['Datport_3_rmse']"
     },
     "execution_count": 8,
     "metadata": {},
     "output_type": "execute_result"
    }
   ],
   "source": [
    "api_res.errors_keys"
   ]
  },
  {
   "cell_type": "code",
   "execution_count": 8,
   "metadata": {},
   "outputs": [],
   "source": []
  },
  {
   "cell_type": "code",
   "execution_count": 8,
   "metadata": {},
   "outputs": [],
   "source": []
  },
  {
   "cell_type": "code",
   "execution_count": 8,
   "metadata": {},
   "outputs": [],
   "source": []
  },
  {
   "cell_type": "code",
   "execution_count": 8,
   "metadata": {},
   "outputs": [],
   "source": []
  },
  {
   "cell_type": "code",
   "execution_count": 8,
   "metadata": {},
   "outputs": [],
   "source": []
  }
 ],
 "metadata": {
  "kernelspec": {
   "display_name": "Python 3",
   "language": "python",
   "name": "python3"
  },
  "language_info": {
   "codemirror_mode": {
    "name": "ipython",
    "version": 3
   },
   "file_extension": ".py",
   "mimetype": "text/x-python",
   "name": "python",
   "nbconvert_exporter": "python",
   "pygments_lexer": "ipython3",
   "version": "3.6.7"
  }
 },
 "nbformat": 4,
 "nbformat_minor": 2
}